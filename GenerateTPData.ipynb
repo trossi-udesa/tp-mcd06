{
 "cells": [
  {
   "cell_type": "code",
   "execution_count": 1,
   "id": "783fc00e",
   "metadata": {
    "id": "783fc00e"
   },
   "outputs": [],
   "source": [
    "import pandas as pd\n",
    "import random\n",
    "import string"
   ]
  },
  {
   "cell_type": "markdown",
   "id": "fae29868",
   "metadata": {
    "id": "fae29868"
   },
   "source": [
    "Genero 20 advertiser_id activos y 5 inactivos"
   ]
  },
  {
   "cell_type": "code",
   "execution_count": 2,
   "id": "1e321326",
   "metadata": {
    "id": "1e321326"
   },
   "outputs": [],
   "source": [
    "random.seed(4)\n",
    "active_advertisers = [''.join(random.choices(string.ascii_uppercase + string.digits, k = 20)) for _ in range(20)]\n",
    "inactive_advertisers = [''.join(random.choices(string.ascii_uppercase + string.digits, k = 20)) for _ in range(5)]\n",
    "all_advertisers = active_advertisers+inactive_advertisers"
   ]
  },
  {
   "cell_type": "code",
   "execution_count": 3,
   "id": "8d4020ed",
   "metadata": {
    "colab": {
     "base_uri": "https://localhost:8080/"
    },
    "executionInfo": {
     "elapsed": 15,
     "status": "ok",
     "timestamp": 1681427182661,
     "user": {
      "displayName": "Federico Pousa",
      "userId": "11923140000981592727"
     },
     "user_tz": 180
    },
    "id": "8d4020ed",
    "outputId": "7b900220-f10d-4ddd-8e0c-2ef024c79360"
   },
   "outputs": [
    {
     "data": {
      "text/plain": [
       "['IDOFCO721HTJGDH7332G',\n",
       " 'LW045DVYSGRD75TK6U54',\n",
       " 'SOVPFK3BBWKTQM9HOHWJ',\n",
       " 'M0LU6DCI1WILGQBZ6808',\n",
       " 'AK81O7W3KGPEN8LABG2N',\n",
       " 'KD9PHCBGYFBRI9ET1O9R',\n",
       " 'IOBPI63RBJIHI5FB7U9O',\n",
       " '6X20RDH567MX2X3TXYJ7',\n",
       " '8C88YB6E8YCGWU07HA7A',\n",
       " '5E325T5HYL61QSABVR5V',\n",
       " 'EN1SA43DTN2LIR8DEW5S',\n",
       " 'P41C5HK4P2G5GFRMT6ZA',\n",
       " 'LTRZRCI4M19WYVL6Q6L5',\n",
       " '2WPF1NXECF3G6NUMWDO7',\n",
       " 'GXLKAA83238FVRU718EX',\n",
       " 'Y0W3K7OV6ZLILW96OO3K',\n",
       " 'OAGTYWN8WFC997VLDJH7',\n",
       " '62FIK8F2YT8JSFDBLEC9',\n",
       " 'K6Z0X85ZUY0TSF4RCG5J',\n",
       " 'OY5LNPB5A8FF43ITRZG3']"
      ]
     },
     "execution_count": 3,
     "metadata": {},
     "output_type": "execute_result"
    }
   ],
   "source": [
    "active_advertisers"
   ]
  },
  {
   "cell_type": "markdown",
   "id": "J37jNL95FiYn",
   "metadata": {
    "id": "J37jNL95FiYn"
   },
   "source": []
  },
  {
   "cell_type": "code",
   "execution_count": 4,
   "id": "fa8aa17f",
   "metadata": {
    "id": "fa8aa17f"
   },
   "outputs": [],
   "source": [
    "pd.DataFrame(active_advertisers, columns=['advertiser_id']).to_csv('advertiser_ids', index=False)"
   ]
  },
  {
   "cell_type": "markdown",
   "id": "0901d8ee",
   "metadata": {
    "id": "0901d8ee"
   },
   "source": [
    "Genero un catalogo de 100 productos para cada uno de los advertisables"
   ]
  },
  {
   "cell_type": "code",
   "execution_count": 5,
   "id": "f14e127e",
   "metadata": {
    "id": "f14e127e"
   },
   "outputs": [],
   "source": [
    "advertisers_catalogs = {}\n",
    "for advertiser in all_advertisers:\n",
    "    advertisers_catalogs[advertiser] = [''.join(random.choices(string.ascii_lowercase + string.digits, k = 6)) for _ in range(100)]"
   ]
  },
  {
   "cell_type": "code",
   "execution_count": 8,
   "id": "29536b71",
   "metadata": {
    "id": "29536b71"
   },
   "outputs": [],
   "source": [
    "possible_dates = [f'2025-04-{day:02d}' for day in range(28,31)] + [f'2025-05-{day:02d}' for day in range(1,31)] + [f'2025-06-{day:02d}' for day in range(1,30)]"
   ]
  },
  {
   "cell_type": "code",
   "execution_count": 9,
   "id": "dxChIAYTGAuW",
   "metadata": {
    "colab": {
     "base_uri": "https://localhost:8080/"
    },
    "executionInfo": {
     "elapsed": 5,
     "status": "ok",
     "timestamp": 1714431731852,
     "user": {
      "displayName": "Agustin Mosteiro",
      "userId": "12832368380375469628"
     },
     "user_tz": 180
    },
    "id": "dxChIAYTGAuW",
    "outputId": "666a1ae2-dfd0-4503-926c-98c37f20cc5d"
   },
   "outputs": [
    {
     "data": {
      "text/plain": [
       "['2025-04-28',\n",
       " '2025-04-29',\n",
       " '2025-04-30',\n",
       " '2025-05-01',\n",
       " '2025-05-02',\n",
       " '2025-05-03',\n",
       " '2025-05-04',\n",
       " '2025-05-05',\n",
       " '2025-05-06',\n",
       " '2025-05-07',\n",
       " '2025-05-08',\n",
       " '2025-05-09',\n",
       " '2025-05-10',\n",
       " '2025-05-11',\n",
       " '2025-05-12',\n",
       " '2025-05-13',\n",
       " '2025-05-14',\n",
       " '2025-05-15',\n",
       " '2025-05-16',\n",
       " '2025-05-17',\n",
       " '2025-05-18',\n",
       " '2025-05-19',\n",
       " '2025-05-20',\n",
       " '2025-05-21',\n",
       " '2025-05-22',\n",
       " '2025-05-23',\n",
       " '2025-05-24',\n",
       " '2025-05-25',\n",
       " '2025-05-26',\n",
       " '2025-05-27',\n",
       " '2025-05-28',\n",
       " '2025-05-29',\n",
       " '2025-05-30',\n",
       " '2025-06-01',\n",
       " '2025-06-02',\n",
       " '2025-06-03',\n",
       " '2025-06-04',\n",
       " '2025-06-05',\n",
       " '2025-06-06',\n",
       " '2025-06-07',\n",
       " '2025-06-08',\n",
       " '2025-06-09',\n",
       " '2025-06-10',\n",
       " '2025-06-11',\n",
       " '2025-06-12',\n",
       " '2025-06-13',\n",
       " '2025-06-14',\n",
       " '2025-06-15',\n",
       " '2025-06-16',\n",
       " '2025-06-17',\n",
       " '2025-06-18',\n",
       " '2025-06-19',\n",
       " '2025-06-20',\n",
       " '2025-06-21',\n",
       " '2025-06-22',\n",
       " '2025-06-23',\n",
       " '2025-06-24',\n",
       " '2025-06-25',\n",
       " '2025-06-26',\n",
       " '2025-06-27',\n",
       " '2025-06-28',\n",
       " '2025-06-29']"
      ]
     },
     "execution_count": 9,
     "metadata": {},
     "output_type": "execute_result"
    }
   ],
   "source": [
    "possible_dates"
   ]
  },
  {
   "cell_type": "markdown",
   "id": "3a70f46f",
   "metadata": {
    "id": "3a70f46f"
   },
   "source": [
    "Genero lineas de vistas de producto"
   ]
  },
  {
   "cell_type": "code",
   "execution_count": 10,
   "id": "9d9881d6",
   "metadata": {
    "id": "9d9881d6"
   },
   "outputs": [],
   "source": [
    "product_views = [[advertiser := random.choice(all_advertisers), random.choice(advertisers_catalogs[advertiser]), random.choice(possible_dates)] for _ in range(200_000)]"
   ]
  },
  {
   "cell_type": "code",
   "execution_count": 11,
   "id": "a9ad9fb2",
   "metadata": {
    "id": "a9ad9fb2"
   },
   "outputs": [],
   "source": [
    "df_product_views = pd.DataFrame(product_views, columns=['advertiser_id', 'product_id', 'date'])"
   ]
  },
  {
   "cell_type": "code",
   "execution_count": 12,
   "id": "6e325c08",
   "metadata": {
    "id": "6e325c08"
   },
   "outputs": [],
   "source": [
    "df_product_views = df_product_views.sort_values('date').reset_index(drop=True)"
   ]
  },
  {
   "cell_type": "code",
   "execution_count": 13,
   "id": "6b529e6b",
   "metadata": {
    "colab": {
     "base_uri": "https://localhost:8080/",
     "height": 677
    },
    "executionInfo": {
     "elapsed": 21,
     "status": "ok",
     "timestamp": 1681427183167,
     "user": {
      "displayName": "Federico Pousa",
      "userId": "11923140000981592727"
     },
     "user_tz": 180
    },
    "id": "6b529e6b",
    "outputId": "6b1a783d-452f-4f60-d9a7-a1463d39b4ec"
   },
   "outputs": [
    {
     "data": {
      "text/html": [
       "<div>\n",
       "<style scoped>\n",
       "    .dataframe tbody tr th:only-of-type {\n",
       "        vertical-align: middle;\n",
       "    }\n",
       "\n",
       "    .dataframe tbody tr th {\n",
       "        vertical-align: top;\n",
       "    }\n",
       "\n",
       "    .dataframe thead th {\n",
       "        text-align: right;\n",
       "    }\n",
       "</style>\n",
       "<table border=\"1\" class=\"dataframe\">\n",
       "  <thead>\n",
       "    <tr style=\"text-align: right;\">\n",
       "      <th></th>\n",
       "      <th>advertiser_id</th>\n",
       "      <th>product_id</th>\n",
       "      <th>date</th>\n",
       "    </tr>\n",
       "  </thead>\n",
       "  <tbody>\n",
       "    <tr>\n",
       "      <th>0</th>\n",
       "      <td>OAGTYWN8WFC997VLDJH7</td>\n",
       "      <td>lhvizn</td>\n",
       "      <td>2025-04-28</td>\n",
       "    </tr>\n",
       "    <tr>\n",
       "      <th>1</th>\n",
       "      <td>IOBPI63RBJIHI5FB7U9O</td>\n",
       "      <td>i293fa</td>\n",
       "      <td>2025-04-28</td>\n",
       "    </tr>\n",
       "    <tr>\n",
       "      <th>2</th>\n",
       "      <td>5E325T5HYL61QSABVR5V</td>\n",
       "      <td>qv04s9</td>\n",
       "      <td>2025-04-28</td>\n",
       "    </tr>\n",
       "    <tr>\n",
       "      <th>3</th>\n",
       "      <td>1OW4LWJSBJK6E1D9FDH7</td>\n",
       "      <td>mil0dk</td>\n",
       "      <td>2025-04-28</td>\n",
       "    </tr>\n",
       "    <tr>\n",
       "      <th>4</th>\n",
       "      <td>5E325T5HYL61QSABVR5V</td>\n",
       "      <td>s9x9yb</td>\n",
       "      <td>2025-04-28</td>\n",
       "    </tr>\n",
       "    <tr>\n",
       "      <th>5</th>\n",
       "      <td>6X20RDH567MX2X3TXYJ7</td>\n",
       "      <td>rlkxot</td>\n",
       "      <td>2025-04-28</td>\n",
       "    </tr>\n",
       "    <tr>\n",
       "      <th>6</th>\n",
       "      <td>L6WM4665XZVS9MCZRTVI</td>\n",
       "      <td>6wrieo</td>\n",
       "      <td>2025-04-28</td>\n",
       "    </tr>\n",
       "    <tr>\n",
       "      <th>7</th>\n",
       "      <td>GXLKAA83238FVRU718EX</td>\n",
       "      <td>ds5811</td>\n",
       "      <td>2025-04-28</td>\n",
       "    </tr>\n",
       "    <tr>\n",
       "      <th>8</th>\n",
       "      <td>IDOFCO721HTJGDH7332G</td>\n",
       "      <td>r7p0od</td>\n",
       "      <td>2025-04-28</td>\n",
       "    </tr>\n",
       "    <tr>\n",
       "      <th>9</th>\n",
       "      <td>OY5LNPB5A8FF43ITRZG3</td>\n",
       "      <td>00h07f</td>\n",
       "      <td>2025-04-28</td>\n",
       "    </tr>\n",
       "    <tr>\n",
       "      <th>10</th>\n",
       "      <td>1OW4LWJSBJK6E1D9FDH7</td>\n",
       "      <td>7u3jyi</td>\n",
       "      <td>2025-04-28</td>\n",
       "    </tr>\n",
       "    <tr>\n",
       "      <th>11</th>\n",
       "      <td>HC26ZE93SA4WWA0BRFM6</td>\n",
       "      <td>a3f9u4</td>\n",
       "      <td>2025-04-28</td>\n",
       "    </tr>\n",
       "    <tr>\n",
       "      <th>12</th>\n",
       "      <td>LTRZRCI4M19WYVL6Q6L5</td>\n",
       "      <td>dm25c3</td>\n",
       "      <td>2025-04-28</td>\n",
       "    </tr>\n",
       "    <tr>\n",
       "      <th>13</th>\n",
       "      <td>EN1SA43DTN2LIR8DEW5S</td>\n",
       "      <td>6gk5f5</td>\n",
       "      <td>2025-04-28</td>\n",
       "    </tr>\n",
       "    <tr>\n",
       "      <th>14</th>\n",
       "      <td>LTRZRCI4M19WYVL6Q6L5</td>\n",
       "      <td>8x7ecu</td>\n",
       "      <td>2025-04-28</td>\n",
       "    </tr>\n",
       "    <tr>\n",
       "      <th>15</th>\n",
       "      <td>5E325T5HYL61QSABVR5V</td>\n",
       "      <td>amydhs</td>\n",
       "      <td>2025-04-28</td>\n",
       "    </tr>\n",
       "    <tr>\n",
       "      <th>16</th>\n",
       "      <td>P41C5HK4P2G5GFRMT6ZA</td>\n",
       "      <td>hlrx0o</td>\n",
       "      <td>2025-04-28</td>\n",
       "    </tr>\n",
       "    <tr>\n",
       "      <th>17</th>\n",
       "      <td>P41C5HK4P2G5GFRMT6ZA</td>\n",
       "      <td>hk03qd</td>\n",
       "      <td>2025-04-28</td>\n",
       "    </tr>\n",
       "    <tr>\n",
       "      <th>18</th>\n",
       "      <td>OAGTYWN8WFC997VLDJH7</td>\n",
       "      <td>q80d56</td>\n",
       "      <td>2025-04-28</td>\n",
       "    </tr>\n",
       "    <tr>\n",
       "      <th>19</th>\n",
       "      <td>5E325T5HYL61QSABVR5V</td>\n",
       "      <td>emmsjb</td>\n",
       "      <td>2025-04-28</td>\n",
       "    </tr>\n",
       "  </tbody>\n",
       "</table>\n",
       "</div>"
      ],
      "text/plain": [
       "           advertiser_id product_id        date\n",
       "0   OAGTYWN8WFC997VLDJH7     lhvizn  2025-04-28\n",
       "1   IOBPI63RBJIHI5FB7U9O     i293fa  2025-04-28\n",
       "2   5E325T5HYL61QSABVR5V     qv04s9  2025-04-28\n",
       "3   1OW4LWJSBJK6E1D9FDH7     mil0dk  2025-04-28\n",
       "4   5E325T5HYL61QSABVR5V     s9x9yb  2025-04-28\n",
       "5   6X20RDH567MX2X3TXYJ7     rlkxot  2025-04-28\n",
       "6   L6WM4665XZVS9MCZRTVI     6wrieo  2025-04-28\n",
       "7   GXLKAA83238FVRU718EX     ds5811  2025-04-28\n",
       "8   IDOFCO721HTJGDH7332G     r7p0od  2025-04-28\n",
       "9   OY5LNPB5A8FF43ITRZG3     00h07f  2025-04-28\n",
       "10  1OW4LWJSBJK6E1D9FDH7     7u3jyi  2025-04-28\n",
       "11  HC26ZE93SA4WWA0BRFM6     a3f9u4  2025-04-28\n",
       "12  LTRZRCI4M19WYVL6Q6L5     dm25c3  2025-04-28\n",
       "13  EN1SA43DTN2LIR8DEW5S     6gk5f5  2025-04-28\n",
       "14  LTRZRCI4M19WYVL6Q6L5     8x7ecu  2025-04-28\n",
       "15  5E325T5HYL61QSABVR5V     amydhs  2025-04-28\n",
       "16  P41C5HK4P2G5GFRMT6ZA     hlrx0o  2025-04-28\n",
       "17  P41C5HK4P2G5GFRMT6ZA     hk03qd  2025-04-28\n",
       "18  OAGTYWN8WFC997VLDJH7     q80d56  2025-04-28\n",
       "19  5E325T5HYL61QSABVR5V     emmsjb  2025-04-28"
      ]
     },
     "execution_count": 13,
     "metadata": {},
     "output_type": "execute_result"
    }
   ],
   "source": [
    "df_product_views.head(20)"
   ]
  },
  {
   "cell_type": "code",
   "execution_count": 22,
   "id": "82920f82",
   "metadata": {
    "id": "82920f82"
   },
   "outputs": [],
   "source": [
    "df_product_views.to_csv('product_views', index=False)"
   ]
  },
  {
   "cell_type": "markdown",
   "id": "59a5441f",
   "metadata": {
    "id": "59a5441f"
   },
   "source": [
    "Genero lineas de vistas de ads"
   ]
  },
  {
   "cell_type": "code",
   "execution_count": 17,
   "id": "000c1cec",
   "metadata": {
    "id": "000c1cec"
   },
   "outputs": [],
   "source": [
    "ads_views = [[advertiser := random.choice(all_advertisers), random.choice(advertisers_catalogs[advertiser]), random.choices(['impression', 'click'], weights=[99, 1])[0], random.choice(possible_dates)] for _ in range(200_000)]"
   ]
  },
  {
   "cell_type": "code",
   "execution_count": 18,
   "id": "4808515d",
   "metadata": {
    "id": "4808515d"
   },
   "outputs": [],
   "source": [
    "df_ads_views = pd.DataFrame(ads_views, columns=['advertiser_id', 'product_id', 'type', 'date'])"
   ]
  },
  {
   "cell_type": "code",
   "execution_count": 19,
   "id": "1243bec6",
   "metadata": {
    "id": "1243bec6"
   },
   "outputs": [],
   "source": [
    "df_ads_views = df_ads_views.sort_values('date').reset_index(drop=True)"
   ]
  },
  {
   "cell_type": "code",
   "execution_count": 20,
   "id": "317bde80",
   "metadata": {
    "colab": {
     "base_uri": "https://localhost:8080/",
     "height": 677
    },
    "executionInfo": {
     "elapsed": 17,
     "status": "ok",
     "timestamp": 1681427184633,
     "user": {
      "displayName": "Federico Pousa",
      "userId": "11923140000981592727"
     },
     "user_tz": 180
    },
    "id": "317bde80",
    "outputId": "127497cd-b18c-43b7-9476-60a26b4058d2"
   },
   "outputs": [
    {
     "data": {
      "text/html": [
       "<div>\n",
       "<style scoped>\n",
       "    .dataframe tbody tr th:only-of-type {\n",
       "        vertical-align: middle;\n",
       "    }\n",
       "\n",
       "    .dataframe tbody tr th {\n",
       "        vertical-align: top;\n",
       "    }\n",
       "\n",
       "    .dataframe thead th {\n",
       "        text-align: right;\n",
       "    }\n",
       "</style>\n",
       "<table border=\"1\" class=\"dataframe\">\n",
       "  <thead>\n",
       "    <tr style=\"text-align: right;\">\n",
       "      <th></th>\n",
       "      <th>advertiser_id</th>\n",
       "      <th>product_id</th>\n",
       "      <th>type</th>\n",
       "      <th>date</th>\n",
       "    </tr>\n",
       "  </thead>\n",
       "  <tbody>\n",
       "    <tr>\n",
       "      <th>0</th>\n",
       "      <td>IOBPI63RBJIHI5FB7U9O</td>\n",
       "      <td>0ntqs2</td>\n",
       "      <td>impression</td>\n",
       "      <td>2025-04-28</td>\n",
       "    </tr>\n",
       "    <tr>\n",
       "      <th>1</th>\n",
       "      <td>1OW4LWJSBJK6E1D9FDH7</td>\n",
       "      <td>6eo5pm</td>\n",
       "      <td>impression</td>\n",
       "      <td>2025-04-28</td>\n",
       "    </tr>\n",
       "    <tr>\n",
       "      <th>2</th>\n",
       "      <td>LTRZRCI4M19WYVL6Q6L5</td>\n",
       "      <td>kdj16i</td>\n",
       "      <td>impression</td>\n",
       "      <td>2025-04-28</td>\n",
       "    </tr>\n",
       "    <tr>\n",
       "      <th>3</th>\n",
       "      <td>8C88YB6E8YCGWU07HA7A</td>\n",
       "      <td>48zad0</td>\n",
       "      <td>impression</td>\n",
       "      <td>2025-04-28</td>\n",
       "    </tr>\n",
       "    <tr>\n",
       "      <th>4</th>\n",
       "      <td>HC26ZE93SA4WWA0BRFM6</td>\n",
       "      <td>iknah3</td>\n",
       "      <td>impression</td>\n",
       "      <td>2025-04-28</td>\n",
       "    </tr>\n",
       "    <tr>\n",
       "      <th>5</th>\n",
       "      <td>KD9PHCBGYFBRI9ET1O9R</td>\n",
       "      <td>igp6ou</td>\n",
       "      <td>impression</td>\n",
       "      <td>2025-04-28</td>\n",
       "    </tr>\n",
       "    <tr>\n",
       "      <th>6</th>\n",
       "      <td>K6Z0X85ZUY0TSF4RCG5J</td>\n",
       "      <td>n6gva7</td>\n",
       "      <td>impression</td>\n",
       "      <td>2025-04-28</td>\n",
       "    </tr>\n",
       "    <tr>\n",
       "      <th>7</th>\n",
       "      <td>HC26ZE93SA4WWA0BRFM6</td>\n",
       "      <td>lc48ib</td>\n",
       "      <td>impression</td>\n",
       "      <td>2025-04-28</td>\n",
       "    </tr>\n",
       "    <tr>\n",
       "      <th>8</th>\n",
       "      <td>LW045DVYSGRD75TK6U54</td>\n",
       "      <td>rusyuo</td>\n",
       "      <td>impression</td>\n",
       "      <td>2025-04-28</td>\n",
       "    </tr>\n",
       "    <tr>\n",
       "      <th>9</th>\n",
       "      <td>SOVPFK3BBWKTQM9HOHWJ</td>\n",
       "      <td>4ej8w6</td>\n",
       "      <td>impression</td>\n",
       "      <td>2025-04-28</td>\n",
       "    </tr>\n",
       "    <tr>\n",
       "      <th>10</th>\n",
       "      <td>OY5LNPB5A8FF43ITRZG3</td>\n",
       "      <td>nyrjpp</td>\n",
       "      <td>impression</td>\n",
       "      <td>2025-04-28</td>\n",
       "    </tr>\n",
       "    <tr>\n",
       "      <th>11</th>\n",
       "      <td>IDOFCO721HTJGDH7332G</td>\n",
       "      <td>1stiwg</td>\n",
       "      <td>impression</td>\n",
       "      <td>2025-04-28</td>\n",
       "    </tr>\n",
       "    <tr>\n",
       "      <th>12</th>\n",
       "      <td>1OW4LWJSBJK6E1D9FDH7</td>\n",
       "      <td>t5im8z</td>\n",
       "      <td>impression</td>\n",
       "      <td>2025-04-28</td>\n",
       "    </tr>\n",
       "    <tr>\n",
       "      <th>13</th>\n",
       "      <td>K6Z0X85ZUY0TSF4RCG5J</td>\n",
       "      <td>9vps7z</td>\n",
       "      <td>impression</td>\n",
       "      <td>2025-04-28</td>\n",
       "    </tr>\n",
       "    <tr>\n",
       "      <th>14</th>\n",
       "      <td>LTRZRCI4M19WYVL6Q6L5</td>\n",
       "      <td>uts4me</td>\n",
       "      <td>impression</td>\n",
       "      <td>2025-04-28</td>\n",
       "    </tr>\n",
       "    <tr>\n",
       "      <th>15</th>\n",
       "      <td>8C88YB6E8YCGWU07HA7A</td>\n",
       "      <td>48zad0</td>\n",
       "      <td>impression</td>\n",
       "      <td>2025-04-28</td>\n",
       "    </tr>\n",
       "    <tr>\n",
       "      <th>16</th>\n",
       "      <td>2WPF1NXECF3G6NUMWDO7</td>\n",
       "      <td>lsm9l4</td>\n",
       "      <td>impression</td>\n",
       "      <td>2025-04-28</td>\n",
       "    </tr>\n",
       "    <tr>\n",
       "      <th>17</th>\n",
       "      <td>OY5LNPB5A8FF43ITRZG3</td>\n",
       "      <td>vs3chg</td>\n",
       "      <td>impression</td>\n",
       "      <td>2025-04-28</td>\n",
       "    </tr>\n",
       "    <tr>\n",
       "      <th>18</th>\n",
       "      <td>IOBPI63RBJIHI5FB7U9O</td>\n",
       "      <td>8qtclw</td>\n",
       "      <td>impression</td>\n",
       "      <td>2025-04-28</td>\n",
       "    </tr>\n",
       "    <tr>\n",
       "      <th>19</th>\n",
       "      <td>62FIK8F2YT8JSFDBLEC9</td>\n",
       "      <td>ektrp8</td>\n",
       "      <td>impression</td>\n",
       "      <td>2025-04-28</td>\n",
       "    </tr>\n",
       "  </tbody>\n",
       "</table>\n",
       "</div>"
      ],
      "text/plain": [
       "           advertiser_id product_id        type        date\n",
       "0   IOBPI63RBJIHI5FB7U9O     0ntqs2  impression  2025-04-28\n",
       "1   1OW4LWJSBJK6E1D9FDH7     6eo5pm  impression  2025-04-28\n",
       "2   LTRZRCI4M19WYVL6Q6L5     kdj16i  impression  2025-04-28\n",
       "3   8C88YB6E8YCGWU07HA7A     48zad0  impression  2025-04-28\n",
       "4   HC26ZE93SA4WWA0BRFM6     iknah3  impression  2025-04-28\n",
       "5   KD9PHCBGYFBRI9ET1O9R     igp6ou  impression  2025-04-28\n",
       "6   K6Z0X85ZUY0TSF4RCG5J     n6gva7  impression  2025-04-28\n",
       "7   HC26ZE93SA4WWA0BRFM6     lc48ib  impression  2025-04-28\n",
       "8   LW045DVYSGRD75TK6U54     rusyuo  impression  2025-04-28\n",
       "9   SOVPFK3BBWKTQM9HOHWJ     4ej8w6  impression  2025-04-28\n",
       "10  OY5LNPB5A8FF43ITRZG3     nyrjpp  impression  2025-04-28\n",
       "11  IDOFCO721HTJGDH7332G     1stiwg  impression  2025-04-28\n",
       "12  1OW4LWJSBJK6E1D9FDH7     t5im8z  impression  2025-04-28\n",
       "13  K6Z0X85ZUY0TSF4RCG5J     9vps7z  impression  2025-04-28\n",
       "14  LTRZRCI4M19WYVL6Q6L5     uts4me  impression  2025-04-28\n",
       "15  8C88YB6E8YCGWU07HA7A     48zad0  impression  2025-04-28\n",
       "16  2WPF1NXECF3G6NUMWDO7     lsm9l4  impression  2025-04-28\n",
       "17  OY5LNPB5A8FF43ITRZG3     vs3chg  impression  2025-04-28\n",
       "18  IOBPI63RBJIHI5FB7U9O     8qtclw  impression  2025-04-28\n",
       "19  62FIK8F2YT8JSFDBLEC9     ektrp8  impression  2025-04-28"
      ]
     },
     "execution_count": 20,
     "metadata": {},
     "output_type": "execute_result"
    }
   ],
   "source": [
    "df_ads_views.head(20)"
   ]
  },
  {
   "cell_type": "code",
   "execution_count": 21,
   "id": "f7a9a5af",
   "metadata": {
    "id": "f7a9a5af"
   },
   "outputs": [],
   "source": [
    "df_ads_views.to_csv('ads_views', index=False)"
   ]
  },
  {
   "cell_type": "code",
   "execution_count": null,
   "id": "y6JxpWQy2xnh",
   "metadata": {
    "id": "y6JxpWQy2xnh"
   },
   "outputs": [],
   "source": []
  }
 ],
 "metadata": {
  "colab": {
   "provenance": []
  },
  "kernelspec": {
   "display_name": "Python 3",
   "language": "python",
   "name": "python3"
  },
  "language_info": {
   "codemirror_mode": {
    "name": "ipython",
    "version": 3
   },
   "file_extension": ".py",
   "mimetype": "text/x-python",
   "name": "python",
   "nbconvert_exporter": "python",
   "pygments_lexer": "ipython3",
   "version": "3.8.8"
  }
 },
 "nbformat": 4,
 "nbformat_minor": 5
}
